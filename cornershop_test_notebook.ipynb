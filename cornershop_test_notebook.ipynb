{
 "cells": [
  {
   "cell_type": "markdown",
   "source": [
    "# Cornershop Data Science Test\n",
    "\n",
    "Author: Francisco Mena\n",
    "\n",
    "In this notebook I design a machine learning model to predict the delivery times,\n",
    "as part of the application for the data science position at Cornershop"
   ],
   "metadata": {
    "collapsed": false,
    "pycharm": {
     "name": "#%% md\n"
    }
   }
  },
  {
   "cell_type": "code",
   "execution_count": 1,
   "outputs": [],
   "source": [
    "import os\n",
    "\n",
    "import pandas as pd\n",
    "import numpy as np\n",
    "import matplotlib.pyplot as plt\n",
    "import seaborn as sns"
   ],
   "metadata": {
    "collapsed": false,
    "pycharm": {
     "name": "#%%\n"
    }
   }
  },
  {
   "cell_type": "code",
   "execution_count": 2,
   "outputs": [],
   "source": [
    "#Set the seed to assure reproducibility\n",
    "semilla = 2077\n",
    "np.random.seed(semilla)\n"
   ],
   "metadata": {
    "collapsed": false,
    "pycharm": {
     "name": "#%%\n"
    }
   }
  },
  {
   "cell_type": "markdown",
   "source": [
    "Now some data exploration to get familiar with the data to use for modeling.\n",
    "\n",
    "First, the info on the products:"
   ],
   "metadata": {
    "collapsed": false,
    "pycharm": {
     "name": "#%% md\n"
    }
   }
  },
  {
   "cell_type": "code",
   "execution_count": 3,
   "outputs": [
    {
     "name": "stdout",
     "output_type": "stream",
     "text": [
      "order_id      0\n",
      "product_id    0\n",
      "quantity      0\n",
      "buy_unit      0\n",
      "dtype: int64\n",
      "\n",
      "\n",
      "9978\n",
      "\n",
      "\n",
      "15422\n",
      "\n",
      "\n",
      "count    198500.000000\n",
      "mean          1.824126\n",
      "std           1.905529\n",
      "min           0.055000\n",
      "25%           1.000000\n",
      "50%           1.000000\n",
      "75%           2.000000\n",
      "max         100.000000\n",
      "Name: quantity, dtype: float64\n",
      "\n",
      "\n",
      "KG    10005\n",
      "Name: buy_unit, dtype: int64\n"
     ]
    }
   ],
   "source": [
    "#Getting familiar with the data\n",
    "dforderprod = pd.read_csv(\"data\\order_products.csv\")\n",
    "\n",
    "dforderprod.dtypes\n",
    "#checking for nans\n",
    "print(dforderprod.isna().sum())\n",
    "print('\\n')\n",
    "\n",
    "#number of orders: 9978\n",
    "print(dforderprod[\"order_id\"].nunique())\n",
    "print('\\n')\n",
    "#number of products: 15422\n",
    "print(dforderprod[\"product_id\"].nunique())\n",
    "print('\\n')\n",
    "#quantity: up to a 100 units bought, a minimum of 0.05, perhaps refers to weight\n",
    "print(dforderprod[\"quantity\"].describe())\n",
    "print('\\n')\n",
    "\n",
    "print(dforderprod.loc[dforderprod[\"quantity\"]<1, \"buy_unit\"].value_counts())\n",
    "#Indeed, quantities below 1 refer to weight, items bought in bulk"
   ],
   "metadata": {
    "collapsed": false,
    "pycharm": {
     "name": "#%%\n"
    }
   }
  },
  {
   "cell_type": "markdown",
   "source": [
    "Now let's look at the orders:"
   ],
   "metadata": {
    "collapsed": false,
    "pycharm": {
     "name": "#%% md\n"
    }
   }
  },
  {
   "cell_type": "code",
   "execution_count": 4,
   "outputs": [
    {
     "name": "stdout",
     "output_type": "stream",
     "text": [
      "order_id              0\n",
      "lat                   0\n",
      "lng                   0\n",
      "promised_time         0\n",
      "on_demand             0\n",
      "shopper_id            0\n",
      "store_branch_id       0\n",
      "total_minutes      2000\n",
      "dtype: int64\n",
      "\n",
      "\n",
      "0\n",
      "\n",
      "\n",
      "lat   -36.942135\n",
      "lng   -73.023604\n",
      "Name: 2578, dtype: object\n",
      "\n",
      "\n",
      "lat   -29.833517\n",
      "lng   -71.272555\n",
      "Name: 5040, dtype: object\n",
      "\n",
      "\n",
      "lat   -36.854938\n",
      "lng    -73.14428\n",
      "Name: 2689, dtype: object\n",
      "\n",
      "\n",
      "lat   -33.371081\n",
      "lng   -70.453728\n",
      "Name: 6104, dtype: object\n"
     ]
    }
   ],
   "source": [
    "dforder = pd.read_csv(\"data\\orders.csv\")\n",
    "dforder.dtypes\n",
    "print(dforder.isna().sum())\n",
    "#2000 nans = final set\n",
    "print('\\n')\n",
    "\n",
    "print(dforder[\"order_id\"].duplicated().sum())\n",
    "print('\\n')\n",
    "\n",
    "#Minimum latitude is in Chiguayante, BioBio\n",
    "print(dforder.loc[dforder[\"lat\"].argmin()][[\"lat\", \"lng\"]])\n",
    "print('\\n')\n",
    "\n",
    "#Max latitude is in La Serena, Coquimbo\n",
    "print(dforder.loc[dforder[\"lat\"].argmax()][[\"lat\", \"lng\"]])\n",
    "print('\\n')\n",
    "\n",
    "#Min longitude is in San Pedro de la Paz, BioBio\n",
    "print(dforder.loc[dforder[\"lng\"].argmin()][[\"lat\", \"lng\"]])\n",
    "print('\\n')\n",
    "\n",
    "#Max longiture is in Barnechea, RM\n",
    "print(dforder.loc[dforder[\"lng\"].argmax()][[\"lat\", \"lng\"]])"
   ],
   "metadata": {
    "collapsed": false,
    "pycharm": {
     "name": "#%%\n"
    }
   }
  },
  {
   "cell_type": "code",
   "execution_count": 5,
   "outputs": [
    {
     "name": "stdout",
     "output_type": "stream",
     "text": [
      "2019-10-18 19:01:00+00:00\n",
      "2019-10-20 00:00:00+00:00\n",
      "False    0.5453\n",
      "True     0.4547\n",
      "Name: on_demand, dtype: float64\n",
      "2864\n",
      "0.5428\n",
      "count    8000.000000\n",
      "mean       81.106130\n",
      "std        34.720837\n",
      "min        11.969489\n",
      "25%        55.225480\n",
      "50%        74.731672\n",
      "75%       100.273498\n",
      "max       304.190303\n",
      "Name: total_minutes, dtype: float64\n"
     ]
    }
   ],
   "source": [
    "#Convert to datetime format\n",
    "dforder[\"promised_time\"] = pd.to_datetime(dforder[\"promised_time\"])\n",
    "print(dforder[\"promised_time\"].min())\n",
    "print(dforder[\"promised_time\"].max())\n",
    "#All orders are between 18-20 Oct '19\n",
    "\n",
    "dforder[\"on_demand\"].value_counts()\n",
    "print(dforder[\"on_demand\"].value_counts(normalize = True))\n",
    "#55% vs 45% on demand\n",
    "\n",
    "#number of shoppers: 2864\n",
    "print(dforder[\"shopper_id\"].nunique())\n",
    "\n",
    "#476 different stores\n",
    "dforder[\"store_branch_id\"].nunique()\n",
    "dforder[\"store_branch_id\"].value_counts()[:10]\n",
    "print(dforder[\"store_branch_id\"].value_counts(normalize = True)[:5].sum())\n",
    "#TFive stores cover over 50% of the orders\n",
    "\n",
    "#between 12 and 305 minutes (5 hours)\n",
    "print(dforder[\"total_minutes\"].describe())"
   ],
   "metadata": {
    "collapsed": false,
    "pycharm": {
     "name": "#%%\n"
    }
   }
  },
  {
   "cell_type": "markdown",
   "source": [
    "### Feature engineering\n",
    "I need to build features that help predict the delivery time.\n",
    "\n",
    "Frequent store or not so common store? Let's classify the stores according to\n",
    "how often clients buy from them"
   ],
   "metadata": {
    "collapsed": false,
    "pycharm": {
     "name": "#%% md\n"
    }
   }
  },
  {
   "cell_type": "code",
   "execution_count": 6,
   "outputs": [
    {
     "name": "stdout",
     "output_type": "stream",
     "text": [
      "1    5428\n",
      "0    4572\n",
      "Name: common_store, dtype: int64\n"
     ]
    }
   ],
   "source": [
    "common_store = dforder[\"store_branch_id\"].isin(dforder[\"store_branch_id\"].value_counts(normalize = True)[:5].index)\n",
    "\n",
    "dforder[\"common_store\"] = common_store\n",
    "dforder[\"common_store\"] = dforder[\"common_store\"].map({True:1, False:0})\n",
    "\n",
    "print(dforder[\"common_store\"].value_counts())"
   ],
   "metadata": {
    "collapsed": false,
    "pycharm": {
     "name": "#%%\n"
    }
   }
  },
  {
   "cell_type": "markdown",
   "source": [
    "Now let's build some features from the time data"
   ],
   "metadata": {
    "collapsed": false,
    "pycharm": {
     "name": "#%% md\n"
    }
   }
  },
  {
   "cell_type": "code",
   "execution_count": 7,
   "outputs": [
    {
     "data": {
      "text/plain": "<Figure size 432x288 with 1 Axes>",
      "image/png": "[encoded data removed]"
     },
     "metadata": {
      "needs_background": "light"
     },
     "output_type": "display_data"
    }
   ],
   "source": [
    "plt.figure()\n",
    "dforder[\"promised_time\"].dt.hour.value_counts().sort_index().plot.bar()\n",
    "plt.xlabel(\"Hour of day\")\n",
    "plt.xlabel(\"Number of orders\")\n",
    "plt.show()"
   ],
   "metadata": {
    "collapsed": false,
    "pycharm": {
     "name": "#%%\n"
    }
   }
  },
  {
   "cell_type": "markdown",
   "source": [
    "No orders between 3am and 11am"
   ],
   "metadata": {
    "collapsed": false,
    "pycharm": {
     "name": "#%% md\n"
    }
   }
  },
  {
   "cell_type": "code",
   "execution_count": 8,
   "outputs": [
    {
     "data": {
      "text/plain": "<Figure size 432x288 with 1 Axes>",
      "image/png": "[encoded data removed]"
     },
     "metadata": {
      "needs_background": "light"
     },
     "output_type": "display_data"
    }
   ],
   "source": [
    "dfaux = dforder.copy()\n",
    "dfaux[\"hour\"] = dfaux[\"promised_time\"].dt.hour\n",
    "dforder.dtypes\n",
    "\n",
    "\n",
    "plt.figure()\n",
    "sns.boxplot(data = dfaux, x = \"hour\", y = \"total_minutes\")\n",
    "plt.show()"
   ],
   "metadata": {
    "collapsed": false,
    "pycharm": {
     "name": "#%%\n"
    }
   }
  },
  {
   "cell_type": "markdown",
   "source": [
    "There isn't a strong correlation between time of day and total minutes,\n",
    "except that nothing much happens before noon.\n",
    "\n",
    "Let's classify the hour of day according into categories. It might make an\n",
    "important difference if we order something for lunch instead of around dinner time,\n",
    "or at midnight."
   ],
   "metadata": {
    "collapsed": false
   }
  },
  {
   "cell_type": "code",
   "execution_count": 9,
   "outputs": [
    {
     "name": "stdout",
     "output_type": "stream",
     "text": [
      "afternoon          3347\n",
      "evening            2963\n",
      "night              2587\n",
      "morning_n_lunch    1103\n",
      "Name: timeofday, dtype: int64\n"
     ]
    }
   ],
   "source": [
    "def timeofday(t):\n",
    "    if (t>=22)|(t<4):\n",
    "        return \"night\"\n",
    "    elif (t>=4)&(t<15):\n",
    "        return \"morning_n_lunch\"\n",
    "    elif (t>=15)&(t<19):\n",
    "        return \"afternoon\"\n",
    "    elif (t>=19)&(t<22):\n",
    "        return \"evening\"\n",
    "    else:\n",
    "        return np.nan\n",
    "\n",
    "dforder[\"hourofday\"] = dforder[\"promised_time\"].dt.hour + dforder[\"promised_time\"].dt.minute/60\n",
    "\n",
    "dforder[\"timeofday\"] = [timeofday(x) for x in dforder[\"hourofday\"]]\n",
    "dforder[[\"hourofday\", \"timeofday\"]]\n",
    "dforder[\"timeofday\"].isna().sum()\n",
    "print( dforder[\"timeofday\"].value_counts())"
   ],
   "metadata": {
    "collapsed": false,
    "pycharm": {
     "name": "#%%\n"
    }
   }
  },
  {
   "cell_type": "markdown",
   "source": [
    "Now, hour of day is not cyclical,  00:00 follows 24:00, which is not continuous.\n",
    "Let's make time a cyclical feature:"
   ],
   "metadata": {
    "collapsed": false,
    "pycharm": {
     "name": "#%% md\n"
    }
   }
  },
  {
   "cell_type": "code",
   "execution_count": 10,
   "outputs": [
    {
     "data": {
      "text/plain": "<Figure size 216x216 with 1 Axes>",
      "image/png": "[encoded data removed]"
     },
     "metadata": {
      "needs_background": "light"
     },
     "output_type": "display_data"
    }
   ],
   "source": [
    "dforder[\"hourofday_x\"] = np.sin( 2 * np.pi * dforder[\"hourofday\"] / 24 )\n",
    "dforder[\"hourofday_y\"] = np.cos( 2 * np.pi * dforder[\"hourofday\"] / 24 )\n",
    "\n",
    "plt.figure(figsize = (3,3))\n",
    "plt.scatter(dforder[\"hourofday_x\"], dforder[\"hourofday_y\"])\n",
    "plt.show()"
   ],
   "metadata": {
    "collapsed": false,
    "pycharm": {
     "name": "#%%\n"
    }
   }
  },
  {
   "cell_type": "markdown",
   "source": [
    "Now the time is a cyclical feature and will be more easily interpreted by the machine learning model.\n",
    "The white space in the circle corresponds to the lack of data between near 3am and 11am.\n",
    "\n",
    "Let's look at the info on the shoppers:"
   ],
   "metadata": {
    "collapsed": false,
    "pycharm": {
     "name": "#%% md\n"
    }
   }
  },
  {
   "cell_type": "code",
   "execution_count": 11,
   "outputs": [
    {
     "name": "stdout",
     "output_type": "stream",
     "text": [
      "shopper_id         0\n",
      "seniority          0\n",
      "found_rate       101\n",
      "picking_speed      0\n",
      "accepted_rate     27\n",
      "rating            84\n",
      "dtype: int64\n",
      "\n",
      "\n",
      "0\n",
      "\n",
      "\n",
      "2864\n",
      "\n",
      "\n",
      "6c90661e6d2c7579f5ce337c3391dbb9    1643\n",
      "50e13ee63f086c2fe84229348bc91b5b     719\n",
      "41dc7c9e385c4d2b6c1f7836973951bf     440\n",
      "bb29b8d0d196b5db5a5350e5e3ae2b1f      62\n",
      "Name: seniority, dtype: int64\n",
      "\n",
      "\n"
     ]
    }
   ],
   "source": [
    "dfshopper = pd.read_csv(\"data/shoppers.csv\")\n",
    "#there are seveal nan\n",
    "print( dfshopper.isna().sum() )\n",
    "print('\\n')\n",
    "\n",
    "dfshopper.dtypes\n",
    "\n",
    "#no duplicated ids\n",
    "print(dfshopper[\"shopper_id\"].duplicated().sum())\n",
    "print('\\n')\n",
    "\n",
    "print(dfshopper[\"shopper_id\"].nunique()) #2864 shoppers\n",
    "print('\\n')\n",
    "\n",
    "print(dfshopper[\"seniority\"].value_counts())\n",
    "print('\\n')"
   ],
   "metadata": {
    "collapsed": false,
    "pycharm": {
     "name": "#%%\n"
    }
   }
  },
  {
   "cell_type": "markdown",
   "source": [
    "Only four seniority types"
   ],
   "metadata": {
    "collapsed": false,
    "pycharm": {
     "name": "#%% md\n"
    }
   }
  },
  {
   "cell_type": "code",
   "execution_count": 12,
   "outputs": [
    {
     "name": "stdout",
     "output_type": "stream",
     "text": [
      "count    2763.000000\n",
      "mean        0.861082\n",
      "std         0.031038\n",
      "min         0.737300\n",
      "25%         0.842900\n",
      "50%         0.863900\n",
      "75%         0.881950\n",
      "max         0.971000\n",
      "Name: found_rate, dtype: float64\n",
      "\n",
      "\n",
      "count    2864.000000\n",
      "mean        1.762392\n",
      "std         0.665962\n",
      "min         0.650000\n",
      "25%         1.290000\n",
      "50%         1.580000\n",
      "75%         2.120000\n",
      "max         7.040000\n",
      "Name: picking_speed, dtype: float64\n",
      "\n",
      "\n",
      "count    2837.000000\n",
      "mean        0.908276\n",
      "std         0.107911\n",
      "min         0.240000\n",
      "25%         0.880000\n",
      "50%         0.944444\n",
      "75%         1.000000\n",
      "max         1.000000\n",
      "Name: accepted_rate, dtype: float64\n",
      "\n",
      "\n",
      "count    2780.000000\n",
      "mean        4.848428\n",
      "std         0.133011\n",
      "min         3.880000\n",
      "25%         4.800000\n",
      "50%         4.880000\n",
      "75%         4.960000\n",
      "max         5.000000\n",
      "Name: rating, dtype: float64\n",
      "\n",
      "\n"
     ]
    }
   ],
   "source": [
    "print(dfshopper[\"found_rate\"].describe()) #between 74% and 97%\n",
    "dfshopper[\"found_rate\"].isna().sum()/len(dfshopper) #3% are nan\n",
    "print('\\n')\n",
    "\n",
    "print(dfshopper[\"picking_speed\"].describe()) #between .6 and 7.\n",
    "print('\\n')\n",
    "\n",
    "print(dfshopper[\"accepted_rate\"].describe()) #between 0.24 and 1\n",
    "dfshopper[\"accepted_rate\"].isna().sum()/len(dfshopper) #1% are nan\n",
    "print('\\n')\n",
    "\n",
    "print(dfshopper[\"rating\"].describe()) #between 3.8 and 5.0\n",
    "dfshopper[\"rating\"].isna().sum()/len(dfshopper) #3% are nan\n",
    "print('\\n')"
   ],
   "metadata": {
    "collapsed": false,
    "pycharm": {
     "name": "#%%\n"
    }
   }
  },
  {
   "cell_type": "markdown",
   "source": [
    "The \"seniority\" variable has some strange names. Let's map seniority for clarity"
   ],
   "metadata": {
    "collapsed": false,
    "pycharm": {
     "name": "#%% md\n"
    }
   }
  },
  {
   "cell_type": "code",
   "execution_count": 13,
   "outputs": [
    {
     "data": {
      "text/plain": "A    1643\nB     719\nC     440\nD      62\nName: seniority, dtype: int64"
     },
     "execution_count": 13,
     "metadata": {},
     "output_type": "execute_result"
    }
   ],
   "source": [
    "dfshopper[\"seniority\"].value_counts()\n",
    "#Only four seniority types\n",
    "mapeo = {\"6c90661e6d2c7579f5ce337c3391dbb9\":\"A\",\n",
    " \"50e13ee63f086c2fe84229348bc91b5b\":\"B\",\n",
    " \"41dc7c9e385c4d2b6c1f7836973951bf\":\"C\",\n",
    " \"bb29b8d0d196b5db5a5350e5e3ae2b1f\":\"D\"}\n",
    "\n",
    "dfshopper[\"seniority\"] = dfshopper[\"seniority\"].map(mapeo)\n",
    "dfshopper[\"seniority\"].value_counts()"
   ],
   "metadata": {
    "collapsed": false,
    "pycharm": {
     "name": "#%%\n"
    }
   }
  },
  {
   "cell_type": "markdown",
   "source": [
    "Based on the value count, I could make some assumptions on which categories has\n",
    "more seniority than others, but better to not make assumptions without having more information.\n",
    "\n",
    "Let's build features now for the picking speed. The median is around 1.5 minutes, so let's\n",
    "separate shipping speed into \"slow\" and \"fast\" shoppers."
   ],
   "metadata": {
    "collapsed": false,
    "pycharm": {
     "name": "#%% md\n"
    }
   }
  },
  {
   "cell_type": "code",
   "execution_count": 14,
   "outputs": [
    {
     "name": "stdout",
     "output_type": "stream",
     "text": [
      "count    2864.000000\n",
      "mean        1.762392\n",
      "std         0.665962\n",
      "min         0.650000\n",
      "25%         1.290000\n",
      "50%         1.580000\n",
      "75%         2.120000\n",
      "max         7.040000\n",
      "Name: picking_speed, dtype: float64\n"
     ]
    },
    {
     "data": {
      "text/plain": "1    2010\n0     854\nName: picking_speed_fast, dtype: int64"
     },
     "execution_count": 14,
     "metadata": {},
     "output_type": "execute_result"
    }
   ],
   "source": [
    "print( dfshopper[\"picking_speed\"].describe()) #between .6 and 7.\n",
    "dfshopper[\"picking_speed_fast\"] = dfshopper[\"picking_speed\"]<2\n",
    "\n",
    "dfshopper[\"picking_speed_fast\"] = dfshopper[\"picking_speed_fast\"].map({True:1, False:0})\n",
    "dfshopper[\"picking_speed_fast\"].value_counts()"
   ],
   "metadata": {
    "collapsed": false,
    "pycharm": {
     "name": "#%% Feature for speed\n"
    }
   }
  },
  {
   "cell_type": "markdown",
   "source": [
    "Now let's look at the info on the stores"
   ],
   "metadata": {
    "collapsed": false,
    "pycharm": {
     "name": "#%% md\n"
    }
   }
  },
  {
   "cell_type": "code",
   "execution_count": 16,
   "outputs": [
    {
     "name": "stdout",
     "output_type": "stream",
     "text": [
      "476\n",
      "\n",
      "\n",
      "221\n",
      "\n",
      "\n",
      "lat   -36.904347\n",
      "lng   -73.031379\n",
      "Name: 163, dtype: object\n",
      "\n",
      "\n",
      "lat   -29.901425\n",
      "lng   -71.257707\n",
      "Name: 69, dtype: object\n",
      "\n",
      "\n",
      "lat   -36.838835\n",
      "lng    -73.09666\n",
      "Name: 247, dtype: object\n",
      "\n",
      "\n",
      "lat   -33.363976\n",
      "lng   -70.492256\n",
      "Name: 399, dtype: object\n",
      "\n",
      "\n"
     ]
    }
   ],
   "source": [
    "dfstore = pd.read_csv(\"data/storebranch.csv\")\n",
    "dfstore.isna().sum() #no nans\n",
    "\n",
    "dfstore.dtypes\n",
    "\n",
    "#no duplicates\n",
    "dfstore[\"store_branch_id\"].duplicated().sum()\n",
    "print( dfstore[\"store_branch_id\"].nunique()) #476 stores\n",
    "print('\\n')\n",
    "\n",
    "dfstore[\"store_id\"].duplicated().sum()  #255 duplicates\n",
    "print( dfstore[\"store_id\"].nunique()) #221 stores\n",
    "dfstore[\"store_id\"].value_counts()\n",
    "print('\\n')\n",
    "\n",
    "#Minimum latitude is in Chiguayante, BioBio\n",
    "print( dfstore.loc[dfstore[\"lat\"].argmin()][[\"lat\", \"lng\"]])\n",
    "print('\\n')\n",
    "\n",
    "#Max latitude is in La Serena, Coquimbo\n",
    "print( dfstore.loc[dfstore[\"lat\"].argmax()][[\"lat\", \"lng\"]])\n",
    "print('\\n')\n",
    "\n",
    "#Min longitude is in San Pedro de la Paz, BioBio\n",
    "print( dfstore.loc[dfstore[\"lng\"].argmin()][[\"lat\", \"lng\"]])\n",
    "print('\\n')\n",
    "\n",
    "#Max longiture is in Barnechea, RM\n",
    "print( dfstore.loc[dfstore[\"lng\"].argmax()][[\"lat\", \"lng\"]])\n",
    "print('\\n')\n",
    "\n",
    "#change names to merge dataframes\n",
    "dfstore.rename(columns = {\"lat\":\"lat_store\", \"lng\":\"lng_store\"}, inplace = True)"
   ],
   "metadata": {
    "collapsed": false,
    "pycharm": {
     "name": "#%%\n"
    }
   }
  },
  {
   "cell_type": "markdown",
   "source": [
    "Let's merge some of the dataframes before we continue with feature engineering"
   ],
   "metadata": {
    "collapsed": false,
    "pycharm": {
     "name": "#%% md\n"
    }
   }
  },
  {
   "cell_type": "code",
   "execution_count": 17,
   "outputs": [
    {
     "data": {
      "text/plain": "order_id                 0\nlat                      0\nlng                      0\npromised_time            0\non_demand                0\nshopper_id               0\nstore_branch_id          0\ntotal_minutes         2000\ncommon_store             0\nhourofday                0\ntimeofday                0\nhourofday_x              0\nhourofday_y              0\nseniority                0\nfound_rate             200\npicking_speed            0\naccepted_rate           46\nrating                 163\npicking_speed_fast       0\nstore_id                 0\nlat_store                0\nlng_store                0\ndtype: int64"
     },
     "execution_count": 17,
     "metadata": {},
     "output_type": "execute_result"
    }
   ],
   "source": [
    "dforder.dtypes\n",
    "dforderprod.dtypes\n",
    "dfshopper.dtypes\n",
    "dfstore.dtypes\n",
    "\n",
    "df = pd.merge(dforder, dfshopper, how = 'left', left_on = 'shopper_id' ,right_on = 'shopper_id')\n",
    "df.isna().sum() #nans increase after merge\n",
    "\n",
    "df = pd.merge(df, dfstore, how = 'left', left_on = 'store_branch_id' ,right_on = 'store_branch_id')\n",
    "df.isna().sum()\n"
   ],
   "metadata": {
    "collapsed": false,
    "pycharm": {
     "name": "#%%\n"
    }
   }
  },
  {
   "cell_type": "markdown",
   "source": [
    "Some more Feature engineering:\n",
    "\n",
    "Let's build the Distance between store and delivery\n",
    "\n",
    "Eucledian distance would work since stores and deliveries are close,\n",
    "but let's be thorough in the calculation anyway.\n",
    "I'll use this library https://pypi.org/project/haversine/"
   ],
   "metadata": {
    "collapsed": false,
    "pycharm": {
     "name": "#%% md\n"
    }
   }
  },
  {
   "cell_type": "code",
   "execution_count": 18,
   "outputs": [
    {
     "name": "stdout",
     "output_type": "stream",
     "text": [
      "count    10000.000000\n",
      "mean         2.890928\n",
      "std          1.833382\n",
      "min          0.076491\n",
      "25%          1.593173\n",
      "50%          2.504041\n",
      "75%          3.925591\n",
      "max         16.672794\n",
      "Name: distance, dtype: float64\n"
     ]
    }
   ],
   "source": [
    "import haversine as hs\n",
    "loc1 = [(x,y) for x,y in zip(df[\"lat\"], df[\"lng\"])]\n",
    "loc2 = [(x,y) for x,y in zip(df[\"lat_store\"], df[\"lng_store\"])]\n",
    "distance = [hs.haversine(x,y) for x,y in zip(loc1,loc2 )]   #distance in km\n",
    "\n",
    "df[\"distance\"] = distance\n",
    "\n",
    "print( df[\"distance\"].describe() )"
   ],
   "metadata": {
    "collapsed": false,
    "pycharm": {
     "name": "#%%\n"
    }
   }
  },
  {
   "cell_type": "markdown",
   "source": [
    "This is the straight distance between store and delivery. The distance\n",
    "the shopper will travel is certainly longer,\n",
    "but it helps as a proxy of how far they need to travel."
   ],
   "metadata": {
    "collapsed": false,
    "pycharm": {
     "name": "#%% md\n"
    }
   }
  },
  {
   "cell_type": "markdown",
   "source": [
    "It would be great to have more info on the locations, like the city where they are.\n",
    "let's use this library:\n",
    "https://geopy.readthedocs.io\n",
    "\n",
    "From the coordinates one can obtain the city."
   ],
   "metadata": {
    "collapsed": false,
    "pycharm": {
     "name": "#%% md\n"
    }
   }
  },
  {
   "cell_type": "code",
   "execution_count": 19,
   "outputs": [],
   "source": [
    "coords = [\"{},{}\".format(x, y) for x,y in zip(df[\"lat\"], df[\"lng\"])]\n",
    "coords = pd.DataFrame(data = coords, columns = [\"coordinates\"])\n"
   ],
   "metadata": {
    "collapsed": false,
    "pycharm": {
     "name": "#%%\n"
    }
   }
  },
  {
   "cell_type": "code",
   "execution_count": 20,
   "outputs": [
    {
     "data": {
      "text/plain": "'\\n####### I\\'ve already run the following part and saved the results to a file.\\n####### Since it takes several hours to run, I comment it here\\n\\nfrom geopy.geocoders import Nominatim\\nfrom geopy.extra.rate_limiter import RateLimiter\\n\\nfrom datetime import datetime\\n\\nlocations = []\\nplace = []\\nstart = datetime.now()\\nfor kk in range(len(coords)):\\n# for kk in range(80, len(coords)):\\n# for kk in range(7397, len(coords)):\\n\\n    print(kk)\\n\\n    app = \"testapp\" + str(kk)\\n    geolocator = Nominatim(user_agent= app)\\n\\n\\n    ans = geolocator.reverse( coords.iloc[kk] )\\n\\n    if \"city\" in ans.raw[\\'address\\'].keys():\\n        place.append(\"city\")\\n        locations.append(  ans.raw[\\'address\\'][\"city\"]  )\\n\\n    elif \"suburb\" in ans.raw[\\'address\\'].keys():\\n        place.append(\"suburb\")\\n        locations.append(  ans.raw[\\'address\\'][\"suburb\"]  )\\n\\n    elif \"town\" in ans.raw[\\'address\\'].keys():\\n        place.append(\"town\")\\n        locations.append(  ans.raw[\\'address\\'][\"town\"]  )\\n\\n    elif \"neighbourhood\" in ans.raw[\\'address\\'].keys():\\n        place.append(\"neighbourhood\")\\n        locations.append(  ans.raw[\\'address\\'][\"neighbourhood\"]  )\\n\\n    else:\\n        place.append(np.nan)\\n        locations.append(np.nan)\\n\\n\\nend = datetime.now()\\nprint(end - start)\\n# location = geolocator.reverse(\"{},{}\".format(loc2[0][0], loc2[0][1]))\\n\\ndf_locations = pd.DataFrame({\"comuna\":locations, \"place_type\":place[:-1]})\\ndf_locations.isna().sum()\\ndf_locations[\"comuna\"].value_counts().sort_index()\\ndf_locations[\"place_type\"].value_counts()\\n\\ndf_locations.to_csv(\"comunas_from_coordinates.csv\")\\n\\n'"
     },
     "execution_count": 20,
     "metadata": {},
     "output_type": "execute_result"
    }
   ],
   "source": [
    "\"\"\"\n",
    "####### I've already run the following part and saved the results to a file.\n",
    "####### Since it takes several hours to run, I comment it here\n",
    "\n",
    "from geopy.geocoders import Nominatim\n",
    "from geopy.extra.rate_limiter import RateLimiter\n",
    "\n",
    "from datetime import datetime\n",
    "\n",
    "locations = []\n",
    "place = []\n",
    "start = datetime.now()\n",
    "for kk in range(len(coords)):\n",
    "# for kk in range(80, len(coords)):\n",
    "# for kk in range(7397, len(coords)):\n",
    "\n",
    "    print(kk)\n",
    "\n",
    "    app = \"testapp\" + str(kk)\n",
    "    geolocator = Nominatim(user_agent= app)\n",
    "\n",
    "\n",
    "    ans = geolocator.reverse( coords.iloc[kk] )\n",
    "\n",
    "    if \"city\" in ans.raw['address'].keys():\n",
    "        place.append(\"city\")\n",
    "        locations.append(  ans.raw['address'][\"city\"]  )\n",
    "\n",
    "    elif \"suburb\" in ans.raw['address'].keys():\n",
    "        place.append(\"suburb\")\n",
    "        locations.append(  ans.raw['address'][\"suburb\"]  )\n",
    "\n",
    "    elif \"town\" in ans.raw['address'].keys():\n",
    "        place.append(\"town\")\n",
    "        locations.append(  ans.raw['address'][\"town\"]  )\n",
    "\n",
    "    elif \"neighbourhood\" in ans.raw['address'].keys():\n",
    "        place.append(\"neighbourhood\")\n",
    "        locations.append(  ans.raw['address'][\"neighbourhood\"]  )\n",
    "\n",
    "    else:\n",
    "        place.append(np.nan)\n",
    "        locations.append(np.nan)\n",
    "\n",
    "\n",
    "end = datetime.now()\n",
    "print(end - start)\n",
    "# location = geolocator.reverse(\"{},{}\".format(loc2[0][0], loc2[0][1]))\n",
    "\n",
    "df_locations = pd.DataFrame({\"comuna\":locations, \"place_type\":place[:-1]})\n",
    "df_locations.isna().sum()\n",
    "df_locations[\"comuna\"].value_counts().sort_index()\n",
    "df_locations[\"place_type\"].value_counts()\n",
    "\n",
    "df_locations.to_csv(\"comunas_from_coordinates.csv\")\n",
    "\n",
    "\"\"\""
   ],
   "metadata": {
    "collapsed": false,
    "pycharm": {
     "name": "#%%\n"
    }
   }
  },
  {
   "cell_type": "code",
   "execution_count": null,
   "outputs": [],
   "source": [
    "\"\"\"\n",
    "df.columns\n",
    "coords_store = [\"{},{}\".format(x, y) for x,y in zip(df[\"lat_store\"], df[\"lng_store\"])]\n",
    "coords_store = pd.DataFrame(data = coords_store, columns = [\"coordinates\"])\n",
    "\n",
    "\n",
    "locations_store = []\n",
    "place_store = []\n",
    "\n",
    "start = datetime.now()\n",
    "\n",
    "# for kk in range(len(coords_store)):\n",
    "# for kk in range(636,len(coords_store)):\n",
    "for kk in range(2041,len(coords_store)):\n",
    "\n",
    "    print(kk)\n",
    "\n",
    "    app = \"testapp\" + str(kk)\n",
    "    geolocator = Nominatim(user_agent= app)\n",
    "\n",
    "\n",
    "    ans = geolocator.reverse( coords.iloc[kk] )\n",
    "\n",
    "    if \"city\" in ans.raw['address'].keys():\n",
    "        place_store.append(\"city\")\n",
    "        locations_store.append(  ans.raw['address'][\"city\"]  )\n",
    "\n",
    "    elif \"suburb\" in ans.raw['address'].keys():\n",
    "        place_store.append(\"suburb\")\n",
    "        locations_store.append(  ans.raw['address'][\"suburb\"]  )\n",
    "\n",
    "    elif \"town\" in ans.raw['address'].keys():\n",
    "        place_store.append(\"town\")\n",
    "        locations_store.append(  ans.raw['address'][\"town\"]  )\n",
    "\n",
    "    elif \"neighbourhood\" in ans.raw['address'].keys():\n",
    "        place_store.append(\"neighbourhood\")\n",
    "        locations_store.append(  ans.raw['address'][\"neighbourhood\"]  )\n",
    "\n",
    "    else:\n",
    "        place_store.append(np.nan)\n",
    "        locations_store.append(np.nan)\n",
    "\n",
    "\n",
    "end = datetime.now()\n",
    "print(end - start)\n",
    "\n",
    "\n",
    "\n",
    "df_locations_store = pd.DataFrame({\"comuna\":locations_store, \"place_type\":place_store})\n",
    "df_locations_store.isna().sum()\n",
    "df_locations_store[\"comuna\"].value_counts().sort_index()\n",
    "df_locations_store[\"place_type\"].value_counts()\n",
    "\n",
    "df_locations_store.to_csv(\"Stores_comunas_from_coordinates.csv\")\n",
    "\n",
    "\"\"\""
   ],
   "metadata": {
    "collapsed": false,
    "pycharm": {
     "name": "#%%\n"
    }
   }
  },
  {
   "cell_type": "markdown",
   "source": [
    "Having obtained the part of the city where the stores and clients are located,\n",
    "the results are saved to a file so that they can be used without having to run the code again."
   ],
   "metadata": {
    "collapsed": false,
    "pycharm": {
     "name": "#%% md\n"
    }
   }
  },
  {
   "cell_type": "code",
   "execution_count": 21,
   "outputs": [],
   "source": [
    "df_locations = pd.read_csv(\"comunas_from_coordinates.csv\", index_col=0)\n",
    "df_locations_store = pd.read_csv(\"Stores_comunas_from_coordinates.csv\", index_col=0)\n",
    "\n",
    "#Let's merge the results\n",
    "df[\"comuna_client\"] = df_locations[\"comuna\"]\n",
    "df[\"comuna_store\"] = df_locations_store[\"comuna\"]"
   ],
   "metadata": {
    "collapsed": false,
    "pycharm": {
     "name": "#%%\n"
    }
   }
  },
  {
   "cell_type": "code",
   "execution_count": 22,
   "outputs": [
    {
     "data": {
      "text/plain": "0"
     },
     "execution_count": 22,
     "metadata": {},
     "output_type": "execute_result"
    }
   ],
   "source": [
    "df[\"comuna_client\"].value_counts()\n",
    "df[\"comuna_store\"].value_counts()\n",
    "\n",
    "(df[\"comuna_client\"] != df[\"comuna_store\"]).sum()"
   ],
   "metadata": {
    "collapsed": false,
    "pycharm": {
     "name": "#%%\n"
    }
   }
  },
  {
   "cell_type": "markdown",
   "source": [
    "All orders and stores are in the same comuna!\n",
    "That means I can simply use one feature instead of both\n",
    "\n",
    "Let's also group comunas that don't appear much into one group."
   ],
   "metadata": {
    "collapsed": false,
    "pycharm": {
     "name": "#%% md\n"
    }
   }
  },
  {
   "cell_type": "code",
   "execution_count": 23,
   "outputs": [
    {
     "data": {
      "text/plain": "Las Condes      2976\nLo Barnechea    1640\nVitacura        1338\nColina           819\nrare_comuna      800\nProvidencia      696\nÑuñoa            460\nLa Reina         370\nViña del Mar     281\nSantiago         197\nPeñalolén        161\nLa Florida       145\nHuechuraba       117\nName: comuna, dtype: int64"
     },
     "execution_count": 23,
     "metadata": {},
     "output_type": "execute_result"
    }
   ],
   "source": [
    "df.columns\n",
    "df.drop([\"comuna_store\"], axis = 1, inplace= True)\n",
    "df.rename(columns = {\"comuna_client\": \"comuna\"}, inplace = True)\n",
    "\n",
    "\n",
    "#Now I group rare comunas into one same group\n",
    "df[\"comuna\"].value_counts()\n",
    "rare_comunas = df[\"comuna\"].value_counts().loc[ df[\"comuna\"].value_counts()<100  ].index\n",
    "\n",
    "df[\"comuna\"] = [\"rare_comuna\" if x in rare_comunas else x for x in df[\"comuna\"]]\n",
    "\n",
    "df[\"comuna\"].value_counts()"
   ],
   "metadata": {
    "collapsed": false,
    "pycharm": {
     "name": "#%%\n"
    }
   }
  },
  {
   "cell_type": "markdown",
   "source": [
    "Now let's look at the data on the products"
   ],
   "metadata": {
    "collapsed": false,
    "pycharm": {
     "name": "#%% md\n"
    }
   }
  },
  {
   "cell_type": "code",
   "execution_count": 24,
   "outputs": [
    {
     "name": "stdout",
     "output_type": "stream",
     "text": [
      "15422\n",
      "9978\n"
     ]
    }
   ],
   "source": [
    "dforderprod.dtypes\n",
    "print( dforderprod[\"product_id\"].nunique())\n",
    "print(dforderprod[\"order_id\"].nunique())"
   ],
   "metadata": {
    "collapsed": false,
    "pycharm": {
     "name": "#%%\n"
    }
   }
  },
  {
   "cell_type": "code",
   "execution_count": 25,
   "outputs": [
    {
     "name": "stdout",
     "output_type": "stream",
     "text": [
      "count    6332.000000\n",
      "mean        2.738629\n",
      "std         2.736629\n",
      "min         0.055000\n",
      "25%         0.948000\n",
      "50%         1.926000\n",
      "75%         3.602000\n",
      "max        32.492000\n",
      "Name: quantity, dtype: float64\n"
     ]
    },
    {
     "data": {
      "text/plain": "count    9900.00000\nmean       34.82303\nstd        33.15926\nmin         1.00000\n25%        11.00000\n50%        26.00000\n75%        49.00000\nmax       335.00000\nName: quantity, dtype: float64"
     },
     "execution_count": 25,
     "metadata": {},
     "output_type": "execute_result"
    }
   ],
   "source": [
    "### FEATURE: number of products per order\n",
    "num_unique_products = dforderprod.groupby(\"order_id\")[\"product_id\"].nunique()\n",
    "\n",
    "# first separate between bulk and unit items\n",
    "dfbulk = dforderprod.loc[dforderprod[\"buy_unit\"] == \"KG\"].copy()\n",
    "dfunit = dforderprod.loc[dforderprod[\"buy_unit\"] == \"UN\"].copy()\n",
    "\n",
    "### FEATURE: weight bought\n",
    "tot_weight = dfbulk.groupby(\"order_id\")[\"quantity\"].sum()\n",
    "print( tot_weight.describe())\n",
    "\n",
    "### FEATURE: number of items bought\n",
    "num_tot_products = dfunit.groupby(\"order_id\")[\"quantity\"].sum()\n",
    "num_tot_products.describe()\n"
   ],
   "metadata": {
    "collapsed": false,
    "pycharm": {
     "name": "#%%\n"
    }
   }
  },
  {
   "cell_type": "code",
   "execution_count": 26,
   "outputs": [
    {
     "data": {
      "text/plain": "<Figure size 432x288 with 1 Axes>",
      "image/png": "[encoded data removed]"
     },
     "metadata": {
      "needs_background": "light"
     },
     "output_type": "display_data"
    }
   ],
   "source": [
    "#Frequency of items bougth\n",
    "plt.figure()\n",
    "dforderprod[\"product_id\"].value_counts().plot.box()\n",
    "plt.ylim(0,100)\n",
    "plt.show()"
   ],
   "metadata": {
    "collapsed": false,
    "pycharm": {
     "name": "#%%\n"
    }
   }
  },
  {
   "cell_type": "markdown",
   "source": [
    "Most items were bought less than 20 times, but some items were bought many times.\n",
    "Let's classify items according to how often they were bought."
   ],
   "metadata": {
    "collapsed": false,
    "pycharm": {
     "name": "#%% md\n"
    }
   }
  },
  {
   "cell_type": "code",
   "execution_count": 27,
   "outputs": [
    {
     "data": {
      "text/plain": "count    15422.000000\nmean        12.871223\nstd         49.588740\nmin          1.000000\n25%          1.000000\n50%          2.000000\n75%          8.000000\nmax       2073.000000\nName: product_id, dtype: float64"
     },
     "execution_count": 27,
     "metadata": {},
     "output_type": "execute_result"
    }
   ],
   "source": [
    "dforderprod[\"product_id\"].value_counts(normalize = True)\n",
    "\n",
    "item_data = dforderprod[\"product_id\"].value_counts()\n",
    "item_data.describe()"
   ],
   "metadata": {
    "collapsed": false,
    "pycharm": {
     "name": "#%%\n"
    }
   }
  },
  {
   "cell_type": "markdown",
   "source": [
    "Let's classify items according to frequency bought"
   ],
   "metadata": {
    "collapsed": false,
    "pycharm": {
     "name": "#%% md\n"
    }
   }
  },
  {
   "cell_type": "code",
   "execution_count": 28,
   "outputs": [
    {
     "data": {
      "text/plain": "count    17846.000000\nmean         0.971702\nstd          0.728834\nmin          0.055000\n25%          0.498000\n50%          0.835000\n75%          1.200000\nmax         16.250000\nName: quantity, dtype: float64"
     },
     "execution_count": 28,
     "metadata": {},
     "output_type": "execute_result"
    }
   ],
   "source": [
    "item_data = item_data.to_frame(\"frequency\")\n",
    "\n",
    "#If an item has been bought more than 8 times it's normal, otherwise it's rare\n",
    "item_data.loc[item_data[\"frequency\"]<=8]\n",
    "item_data.loc[item_data[\"frequency\"]>8]\n",
    "item_data.loc[item_data[\"frequency\"]<=8, \"freq_type\"] = \"FREQ_rare\"\n",
    "item_data.loc[item_data[\"frequency\"]>8, \"freq_type\"] = \"FREQ_normal\"\n",
    "item_data[\"freq_type\"].value_counts()\n",
    "item_data.rename_axis(\"product_id\", axis = 0, inplace = True)\n",
    "\n",
    "dforderprod.columns\n",
    "dforderprod = pd.merge(dforderprod, item_data, how = \"left\", left_on = \"product_id\", right_on = \"product_id\")\n",
    "\n",
    "dforderprod.loc[dforderprod[\"buy_unit\"]==\"KG\", \"quantity\"].describe()"
   ],
   "metadata": {
    "collapsed": false,
    "pycharm": {
     "name": "#%%\n"
    }
   }
  },
  {
   "cell_type": "code",
   "execution_count": 29,
   "outputs": [
    {
     "data": {
      "text/plain": "FREQ_normal    171028\nFREQ_rare       27472\nName: freq_type, dtype: int64"
     },
     "execution_count": 29,
     "metadata": {},
     "output_type": "execute_result"
    }
   ],
   "source": [
    "dforderprod[\"freq_type\"].value_counts()"
   ],
   "metadata": {
    "collapsed": false,
    "pycharm": {
     "name": "#%%\n"
    }
   }
  },
  {
   "cell_type": "markdown",
   "source": [
    "Besides classifying products according to how often they're bought,\n",
    "we can also look at how much we buy per product, too much? too little?"
   ],
   "metadata": {
    "collapsed": false,
    "pycharm": {
     "name": "#%% md\n"
    }
   }
  },
  {
   "cell_type": "code",
   "execution_count": 30,
   "outputs": [],
   "source": [
    "#FIRST UNIT STUFF\n",
    "median_quantity_bought = dfunit.groupby(\"product_id\")[\"quantity\"].median()\n",
    "median_quantity_bought.describe()\n",
    "median_quantity_bought.loc[median_quantity_bought<2]\n",
    "median_quantity_bought.loc[median_quantity_bought>2]\n",
    "median_quantity_bought.loc[median_quantity_bought>4]\n",
    "\n",
    "median_quantity_bought = median_quantity_bought.to_frame(\"quantity_bought\")\n",
    "median_quantity_bought.loc[median_quantity_bought[\"quantity_bought\"]<2, \"amount_bought\"] = \"Q_a_little\"\n",
    "median_quantity_bought.loc[(median_quantity_bought[\"quantity_bought\"]>=2) & (median_quantity_bought[\"quantity_bought\"]<4), \"amount_bought\"] = \"Q_some\"\n",
    "median_quantity_bought.loc[median_quantity_bought[\"quantity_bought\"]>=4, \"amount_bought\"] = \"Q_tons\"\n",
    "median_quantity_bought[\"amount_bought\"].value_counts()\n",
    "median_quantity_bought[\"amount_bought\"].value_counts(normalize = True)\n",
    "\n",
    "\n",
    "#NOW BULK STUFF\n",
    "median_bulk_bought = dfbulk.groupby(\"product_id\")[\"quantity\"].median()\n",
    "median_bulk_bought.describe()\n",
    "median_bulk_bought.loc[median_bulk_bought<1].count()\n",
    "median_bulk_bought.loc[(median_bulk_bought>=1)&((median_bulk_bought<2))].count()\n",
    "median_bulk_bought.loc[median_bulk_bought>2].count()\n",
    "\n",
    "median_bulk_bought = median_bulk_bought.to_frame(\"quantity_bought\")\n",
    "median_bulk_bought.loc[median_bulk_bought[\"quantity_bought\"]<1, \"amount_bought\"] = \"Q_a_little\"\n",
    "median_bulk_bought.loc[(median_bulk_bought[\"quantity_bought\"]>=1) & (median_bulk_bought[\"quantity_bought\"]<2), \"amount_bought\"] = \"Q_some\"\n",
    "median_bulk_bought.loc[median_bulk_bought[\"quantity_bought\"]>=2, \"amount_bought\"] = \"Q_tons\"\n",
    "median_bulk_bought[\"amount_bought\"].value_counts()\n",
    "median_bulk_bought[\"amount_bought\"].value_counts(normalize = True)\n",
    "\n",
    "\n",
    "stuff_bought = pd.concat([median_quantity_bought, median_bulk_bought])\n",
    "\n",
    "dforderprod = pd.merge(dforderprod, stuff_bought[[\"amount_bought\"]], how = \"left\", left_on = \"product_id\", right_on = \"product_id\")"
   ],
   "metadata": {
    "collapsed": false,
    "pycharm": {
     "name": "#%%\n"
    }
   }
  },
  {
   "cell_type": "code",
   "execution_count": 31,
   "outputs": [
    {
     "name": "stdout",
     "output_type": "stream",
     "text": [
      "Q_a_little    0.699355\n",
      "Q_some        0.212332\n",
      "Q_tons        0.088312\n",
      "Name: amount_bought, dtype: float64\n"
     ]
    }
   ],
   "source": [
    "dforderprod.dtypes\n",
    "dforderprod[\"amount_bought\"].value_counts()\n",
    "print( dforderprod[\"amount_bought\"].value_counts(normalize = True))\n",
    "\n",
    "# 70% of the products bought are one item or low weight.\n",
    "# About 20% are two to 4 items, or less than 2 kg,\n",
    "# and 9% are several items or over 2 kg"
   ],
   "metadata": {
    "collapsed": false,
    "pycharm": {
     "name": "#%%\n"
    }
   }
  },
  {
   "cell_type": "markdown",
   "source": [
    "Let's continue building a few more features"
   ],
   "metadata": {
    "collapsed": false,
    "pycharm": {
     "name": "#%% md\n"
    }
   }
  },
  {
   "cell_type": "code",
   "execution_count": 32,
   "outputs": [
    {
     "data": {
      "text/plain": "amount_bought\nQ_a_little    0\nQ_some        0\nQ_tons        0\ndtype: int64"
     },
     "execution_count": 32,
     "metadata": {},
     "output_type": "execute_result"
    }
   ],
   "source": [
    "#type of items bought per order\n",
    "item_type = pd.crosstab(index = dforderprod[\"order_id\"], columns = dforderprod[\"buy_unit\"])\n",
    "item_type.isna().sum()\n",
    "\n",
    "#how frequently bought are the items in the order\n",
    "item_freq = pd.crosstab(index = dforderprod[\"order_id\"], columns = dforderprod[\"freq_type\"])\n",
    "item_freq.isna().sum()\n",
    "\n",
    "item_amount = pd.crosstab(index = dforderprod[\"order_id\"], columns = dforderprod[\"amount_bought\"])\n",
    "item_amount.isna().sum()"
   ],
   "metadata": {
    "collapsed": false,
    "pycharm": {
     "name": "#%%\n"
    }
   }
  },
  {
   "cell_type": "markdown",
   "source": [
    "Now that I have features for the type of products bought, I can merge it to the main df"
   ],
   "metadata": {
    "collapsed": false,
    "pycharm": {
     "name": "#%% md\n"
    }
   }
  },
  {
   "cell_type": "code",
   "execution_count": 33,
   "outputs": [
    {
     "data": {
      "text/plain": "order_id                 0\nlat                      0\nlng                      0\npromised_time            0\non_demand                0\nshopper_id               0\nstore_branch_id          0\ntotal_minutes         2000\ncommon_store             0\nhourofday                0\ntimeofday                0\nhourofday_x              0\nhourofday_y              0\nseniority                0\nfound_rate             200\npicking_speed            0\naccepted_rate           46\nrating                 163\npicking_speed_fast       0\nstore_id                 0\nlat_store                0\nlng_store                0\ndistance                 0\ncomuna                   0\nKG                      22\nUN                      22\nFREQ_normal             22\nFREQ_rare               22\nQ_a_little              22\nQ_some                  22\nQ_tons                  22\ndtype: int64"
     },
     "execution_count": 33,
     "metadata": {},
     "output_type": "execute_result"
    }
   ],
   "source": [
    "df[\"order_id\"].duplicated().sum()\n",
    "df.head()\n",
    "df = pd.merge(df, item_type, how = 'left', left_on = \"order_id\", right_on = \"order_id\")\n",
    "df.isna().sum()\n",
    "\n",
    "df = pd.merge(df, item_freq, how = 'left', left_on = \"order_id\", right_on = \"order_id\")\n",
    "df.isna().sum()\n",
    "\n",
    "df = pd.merge(df, item_amount, how = 'left', left_on = \"order_id\", right_on = \"order_id\")\n",
    "df.isna().sum()\n"
   ],
   "metadata": {
    "collapsed": false,
    "pycharm": {
     "name": "#%%\n"
    }
   }
  },
  {
   "cell_type": "markdown",
   "source": [
    "Now let's remove the features that I'll not use for modeling"
   ],
   "metadata": {
    "collapsed": false,
    "pycharm": {
     "name": "#%% md\n"
    }
   }
  },
  {
   "cell_type": "code",
   "execution_count": 34,
   "outputs": [],
   "source": [
    "todrop = [\"promised_time\", \"shopper_id\", \"store_branch_id\", \"hourofday\", \"store_id\"]\n",
    "\n",
    "df.drop(todrop, axis = 1, inplace = True)\n",
    "\n",
    "df.set_index(\"order_id\", inplace = True)\n"
   ],
   "metadata": {
    "collapsed": false,
    "pycharm": {
     "name": "#%%\n"
    }
   }
  },
  {
   "cell_type": "markdown",
   "source": [
    "Separate the data for training and the one I need to report"
   ],
   "metadata": {
    "collapsed": false,
    "pycharm": {
     "name": "#%% md\n"
    }
   }
  },
  {
   "cell_type": "code",
   "execution_count": 35,
   "outputs": [],
   "source": [
    "finaltest = df.loc[df[\"total_minutes\"].isna()]\n",
    "data = df.loc[~df[\"total_minutes\"].isna()]"
   ],
   "metadata": {
    "collapsed": false,
    "pycharm": {
     "name": "#%%\n"
    }
   }
  },
  {
   "cell_type": "markdown",
   "source": [
    "Let's drop the files that have NaNs. Better not to make assumptions to fill\n",
    "the data with NaNs, it could introduce a bias, and there's plenty of data available\n",
    "to train the models."
   ],
   "metadata": {
    "collapsed": false,
    "pycharm": {
     "name": "#%% md\n"
    }
   }
  },
  {
   "cell_type": "code",
   "execution_count": 40,
   "outputs": [],
   "source": [
    "data.isna().sum()\n",
    "data.dropna(axis = 0, inplace = True)"
   ],
   "metadata": {
    "collapsed": false,
    "pycharm": {
     "name": "#%%\n"
    }
   }
  },
  {
   "cell_type": "code",
   "execution_count": 37,
   "outputs": [],
   "source": [
    "# Just in case let's shuffle the data,\n",
    "# to make sure I'm not giving the model a bias\n",
    "# hidden in the data\n",
    "\n",
    "data = data.sample(frac=1, random_state = semilla)"
   ],
   "metadata": {
    "collapsed": false,
    "pycharm": {
     "name": "#%% SHUFFLE\n"
    }
   }
  },
  {
   "cell_type": "code",
   "execution_count": 38,
   "outputs": [],
   "source": [
    "\n",
    "dataOG = data.copy() #to use later\n",
    "\n",
    "data.columns\n",
    "y = data.pop(\"total_minutes\")\n",
    "X = data.copy()\n"
   ],
   "metadata": {
    "collapsed": false,
    "pycharm": {
     "name": "#%% Now let's prepare for modeling!\n"
    }
   }
  },
  {
   "cell_type": "code",
   "execution_count": 39,
   "outputs": [
    {
     "data": {
      "text/plain": "<AxesSubplot:>"
     },
     "execution_count": 39,
     "metadata": {},
     "output_type": "execute_result"
    },
    {
     "data": {
      "text/plain": "<Figure size 432x288 with 1 Axes>",
      "image/png": "[encoded data removed]"
     },
     "metadata": {
      "needs_background": "light"
     },
     "output_type": "display_data"
    }
   ],
   "source": [
    "y.plot.box()"
   ],
   "metadata": {
    "collapsed": false,
    "pycharm": {
     "name": "#%%\n"
    }
   }
  },
  {
   "cell_type": "markdown",
   "source": [
    "There are several outliers, with time over the ~170 min mark, that could affect training.\n",
    "Models with regulatization like ElasticNet will be useful.\n"
   ],
   "metadata": {
    "collapsed": false,
    "pycharm": {
     "name": "#%% md\n"
    }
   }
  },
  {
   "cell_type": "code",
   "execution_count": 41,
   "outputs": [
    {
     "data": {
      "text/plain": "<Figure size 432x432 with 2 Axes>",
      "image/png": "[encoded data removed]"
     },
     "metadata": {
      "needs_background": "light"
     },
     "output_type": "display_data"
    }
   ],
   "source": [
    "#Let's look at correlations\n",
    "corr = X.corr().abs()\n",
    "\n",
    "plt.figure(figsize = (6,6))\n",
    "sns.heatmap(corr)\n",
    "plt.show()"
   ],
   "metadata": {
    "collapsed": false,
    "pycharm": {
     "name": "#%%\n"
    }
   }
  },
  {
   "cell_type": "markdown",
   "source": [
    "Coordinates are somewhat correlated, which makes sense since they're close to each other.\n",
    "Frequencies and amounts also have some correlation, wich is also reasonable.\n",
    "The low correlation indicates that it won't affect regression models.\n",
    "\n",
    "Now let's prepare the categorical features"
   ],
   "metadata": {
    "collapsed": false,
    "pycharm": {
     "name": "#%% md\n"
    }
   }
  },
  {
   "cell_type": "code",
   "execution_count": 42,
   "outputs": [],
   "source": [
    "from sklearn.preprocessing import OneHotEncoder\n",
    "\n",
    "catvars = X.dtypes.loc[X.dtypes == object].index\n",
    "\n",
    "for var in catvars:\n",
    "    # print(duf[var].value_counts())\n",
    "\n",
    "    X[var] = [var + '_'  + x for x in X[var]]\n",
    "\n",
    "    ohe = OneHotEncoder()\n",
    "    A = pd.DataFrame(  ohe.fit_transform(X[[var]]).toarray(), columns = ohe.categories_[0] , index = X.index)\n",
    "\n",
    "    X = X.merge(A[ohe.categories_[0]], left_index = True, right_index = True)\n",
    "\n",
    "\n",
    "X.columns\n",
    "X.drop(catvars, axis = 1, inplace = True)\n"
   ],
   "metadata": {
    "collapsed": false,
    "pycharm": {
     "name": "#%% Let's process categorical features\n"
    }
   }
  },
  {
   "cell_type": "markdown",
   "source": [
    "Lets choose a few models to try"
   ],
   "metadata": {
    "collapsed": false,
    "pycharm": {
     "name": "#%% md\n"
    }
   }
  },
  {
   "cell_type": "code",
   "execution_count": 43,
   "outputs": [],
   "source": [
    "from sklearn.linear_model import ElasticNet\n",
    "from sklearn.ensemble import RandomForestRegressor\n",
    "from sklearn.svm import SVR\n",
    "\n",
    "models = [(\"elastic_net\", ElasticNet(random_state=semilla) ),\n",
    "          (\"RF\", RandomForestRegressor(random_state=semilla, criterion=\"mae\", n_jobs = -1)),\n",
    "          (\"svr\", SVR())\n",
    "          ]\n"
   ],
   "metadata": {
    "collapsed": false,
    "pycharm": {
     "name": "#%%\n"
    }
   }
  },
  {
   "cell_type": "markdown",
   "source": [
    "Now let's do a K-Fold cross validation, to avoid overfitting due to choosing a specific split"
   ],
   "metadata": {
    "collapsed": false,
    "pycharm": {
     "name": "#%% md\n"
    }
   }
  },
  {
   "cell_type": "code",
   "execution_count": 53,
   "outputs": [
    {
     "name": "stdout",
     "output_type": "stream",
     "text": [
      "MAE for elastic_net: mean is 18.78973405045916 and std 0.1761088547236602\n",
      "RMSE for elastic_net: mean is 24.80664990921772 and std 0.299622527407083\n",
      "\n",
      "\n"
     ]
    },
    {
     "name": "stderr",
     "output_type": "stream",
     "text": [
      "C:\\Users\\franc\\PycharmProjects\\letstf2gpu\\lib\\site-packages\\sklearn\\ensemble\\_forest.py:395: FutureWarning: Criterion 'mae' was deprecated in v1.0 and will be removed in version 1.2. Use `criterion='absolute_error'` which is equivalent.\n",
      "  warn(\n",
      "C:\\Users\\franc\\PycharmProjects\\letstf2gpu\\lib\\site-packages\\sklearn\\ensemble\\_forest.py:395: FutureWarning: Criterion 'mae' was deprecated in v1.0 and will be removed in version 1.2. Use `criterion='absolute_error'` which is equivalent.\n",
      "  warn(\n",
      "C:\\Users\\franc\\PycharmProjects\\letstf2gpu\\lib\\site-packages\\sklearn\\ensemble\\_forest.py:395: FutureWarning: Criterion 'mae' was deprecated in v1.0 and will be removed in version 1.2. Use `criterion='absolute_error'` which is equivalent.\n",
      "  warn(\n"
     ]
    },
    {
     "name": "stdout",
     "output_type": "stream",
     "text": [
      "MAE for RF: mean is 17.309717099707726 and std 0.06638571038736005\n",
      "RMSE for RF: mean is 23.03179814711473 and std 0.23693745210092568\n",
      "\n",
      "\n",
      "MAE for svr: mean is 18.901351660799694 and std 0.4316590237068328\n",
      "RMSE for svr: mean is 26.18242918751838 and std 0.695834338796511\n",
      "\n",
      "\n"
     ]
    }
   ],
   "source": [
    "from sklearn.preprocessing import StandardScaler\n",
    "from sklearn.model_selection import KFold\n",
    "from sklearn.metrics import mean_absolute_error, mean_squared_error\n",
    "from sklearn.base import clone\n",
    "\n",
    "kf = KFold(n_splits=3)\n",
    "\n",
    "for name, model in models:\n",
    "\n",
    "    mae = []\n",
    "    mse = []\n",
    "\n",
    "    for train_index, test_index in kf.split(X):\n",
    "\n",
    "        X_train, X_test = X.iloc[train_index], X.iloc[test_index]\n",
    "        y_train, y_test = y.iloc[train_index], y.iloc[test_index]\n",
    "\n",
    "        scale = StandardScaler()\n",
    "        X_train_scaled = scale.fit_transform(X_train)\n",
    "        X_test_scaled = scale.transform(X_test)\n",
    "\n",
    "        reg = clone(model)\n",
    "        reg.fit(X_train_scaled, y_train)\n",
    "        ypred = reg.predict(X_test_scaled)\n",
    "\n",
    "        mae.append( mean_absolute_error(y_test, ypred) )\n",
    "        mse.append( mean_squared_error(y_test, ypred, squared=False) )\n",
    "\n",
    "    print(\"MAE for \" + name + \": mean is \" + str(np.mean(mae)) + \" and std \" + str(np.std(mae)))\n",
    "    print(\"RMSE for \" + name + \": mean is \" + str(np.mean(mse)) + \" and std \" + str(np.std(mse)))\n",
    "    print(\"\\n\")\n",
    "\n",
    "#EN 18.8/24.8\n",
    "#RF 17.3/23\n",
    "#SVR 19/26"
   ],
   "metadata": {
    "collapsed": false,
    "pycharm": {
     "name": "#%%\n"
    }
   }
  },
  {
   "cell_type": "markdown",
   "source": [
    "Random Forest performed slightly better than ElasticNet and SVR. I used MAE for the loss function to avoid outliers\n",
    "affecting the training too much.\n",
    "\n",
    "Another important result: Since the std of all models is very small, all less than a minute, there's no concern of overfitting\n",
    "due to choosing a specific split. Having checked that, I can use a more powerful technique:\n",
    "\n",
    "Let's use gridsearch to find the optimal parameters\n"
   ],
   "metadata": {
    "collapsed": false
   }
  },
  {
   "cell_type": "code",
   "execution_count": 54,
   "outputs": [
    {
     "data": {
      "text/plain": "count    1561.000000\nmean       80.888308\nstd        34.640143\nmin        11.969489\n25%        55.458347\n50%        73.846755\n75%        99.284097\nmax       303.029792\nName: total_minutes, dtype: float64"
     },
     "execution_count": 54,
     "metadata": {},
     "output_type": "execute_result"
    }
   ],
   "source": [
    "from sklearn.model_selection import train_test_split\n",
    "\n",
    "X_train, X_test, y_train, y_test = train_test_split(X, y, test_size=0.2, random_state=semilla)\n",
    "\n",
    "y_train.describe()\n",
    "y_test.describe()\n"
   ],
   "metadata": {
    "collapsed": false,
    "pycharm": {
     "name": "#%%\n"
    }
   }
  },
  {
   "cell_type": "code",
   "execution_count": 55,
   "outputs": [],
   "source": [
    "from sklearn.preprocessing import StandardScaler\n",
    "\n",
    "scale = StandardScaler()\n",
    "X_train_scaled = scale.fit_transform(X_train)\n",
    "X_test_scaled = scale.transform(X_test)"
   ],
   "metadata": {
    "collapsed": false,
    "pycharm": {
     "name": "#%% Scaling\n"
    }
   }
  },
  {
   "cell_type": "code",
   "execution_count": 56,
   "outputs": [],
   "source": [
    "from sklearn.model_selection import GridSearchCV, RandomizedSearchCV\n",
    "\n",
    "\n",
    "#We use mae to avoid the outliers from affecting the training too much\n",
    "reg = RandomForestRegressor(random_state=semilla, criterion = \"mae\")\n",
    "\n",
    "# Number of trees in random forest\n",
    "n_estimators = [10, 100, 200]\n",
    "# Number of features to consider at every split\n",
    "# max_features = ['auto', 'sqrt']\n",
    "# Maximum number of levels in tree\n",
    "max_depth = [10, 20, None]\n",
    "# Minimum number of samples required to split a node\n",
    "min_samples_split = [2, 5, 10]\n",
    "# Minimum number of samples required at each leaf node\n",
    "min_samples_leaf = [1, 2, 4]\n",
    "# Method of selecting samples for training each tree\n",
    "bootstrap = [True, False]\n",
    "# Create the random grid\n",
    "params = {'n_estimators': n_estimators,\n",
    "               # 'max_features': max_features,\n",
    "               'max_depth': max_depth,\n",
    "               'min_samples_split': min_samples_split,\n",
    "               'min_samples_leaf': min_samples_leaf,\n",
    "               'bootstrap': bootstrap}\n",
    "\n",
    "\n",
    "grid = GridSearchCV(estimator = reg, param_grid = params,\n",
    "                    scoring = \"neg_mean_absolute_error\",\n",
    "                    cv = 3, n_jobs = 15, verbose = 2)"
   ],
   "metadata": {
    "collapsed": false,
    "pycharm": {
     "name": "#%%\n"
    }
   }
  },
  {
   "cell_type": "code",
   "execution_count": null,
   "outputs": [],
   "source": [
    "print(\"Working on gridsearch\")\n",
    "\n",
    "grid.fit(X_train_scaled, y_train)\n"
   ],
   "metadata": {
    "collapsed": false,
    "pycharm": {
     "name": "#%%\n"
    }
   }
  },
  {
   "cell_type": "code",
   "execution_count": null,
   "outputs": [],
   "source": [
    "grid.best_params_\n",
    "\n",
    "reg = grid.best_estimator_"
   ],
   "metadata": {
    "collapsed": false,
    "pycharm": {
     "name": "#%%\n"
    }
   }
  },
  {
   "cell_type": "markdown",
   "source": [
    "The hyperparameter search with Gridsearch takes fairly long, hence I ran it offline.\n",
    "Here are the best parameters found:\n",
    "\n",
    "{'bootstrap': True,\n",
    " 'max_depth': 20,\n",
    " 'min_samples_leaf': 4,\n",
    " 'min_samples_split': 10,\n",
    " 'n_estimators': 200}\n"
   ],
   "metadata": {
    "collapsed": false,
    "pycharm": {
     "name": "#%% md\n"
    }
   }
  },
  {
   "cell_type": "code",
   "execution_count": 73,
   "outputs": [
    {
     "name": "stderr",
     "output_type": "stream",
     "text": [
      "C:\\Users\\franc\\PycharmProjects\\letstf2gpu\\lib\\site-packages\\sklearn\\ensemble\\_forest.py:395: FutureWarning: Criterion 'mae' was deprecated in v1.0 and will be removed in version 1.2. Use `criterion='absolute_error'` which is equivalent.\n",
      "  warn(\n"
     ]
    },
    {
     "name": "stdout",
     "output_type": "stream",
     "text": [
      "16.63222584606518\n",
      "22.82645980492681\n"
     ]
    }
   ],
   "source": [
    "regrf = RandomForestRegressor(random_state=semilla,\n",
    "                             criterion = \"mae\",\n",
    "                             bootstrap= True,\n",
    "                             max_depth= 20,\n",
    "                             min_samples_leaf= 4,\n",
    "                             min_samples_split= 10,\n",
    "                             n_estimators= 200\n",
    "                             )\n",
    "regrf.fit(X_train_scaled, y_train)\n",
    "\n",
    "ypred = regrf.predict(X_test_scaled)\n",
    "\n",
    "print( mean_absolute_error(y_test, ypred) )\n",
    "print( mean_squared_error(y_test, ypred, squared=False) )\n",
    "\n",
    "# 16.6366439997288\n",
    "# 22.830708375098602"
   ],
   "metadata": {
    "collapsed": false,
    "pycharm": {
     "name": "#%%\n"
    }
   }
  },
  {
   "cell_type": "markdown",
   "source": [
    "Gridsearch helped reduce the MAE from 17.3 to 16.6 minutes, and RMSE \n",
    "from 23.0 to 22.8 minutes. Let's see the improvement in SVR\n"
   ],
   "metadata": {
    "collapsed": false,
    "pycharm": {
     "name": "#%% md\n"
    }
   }
  },
  {
   "cell_type": "code",
   "execution_count": null,
   "outputs": [],
   "source": [
    "# Now SVR gridsearch\n",
    "\n",
    "from sklearn.svm import SVR\n",
    "gsc = GridSearchCV(\n",
    "        estimator=SVR(),\n",
    "        param_grid={'kernel': [\"rbf\", \"linear\"],\n",
    "            'C': [1, 100],\n",
    "            'epsilon': [0.001, 1, 5],\n",
    "            'gamma':[\"auto\", \"scale\"]\n",
    "        },\n",
    "        cv=3, scoring='neg_mean_absolute_error', verbose=2, n_jobs=15)\n",
    "\n",
    "\n",
    "\n",
    "gsc.fit(X_train_scaled, y_train)\n"
   ],
   "metadata": {
    "collapsed": false,
    "pycharm": {
     "name": "#%%\n"
    }
   }
  },
  {
   "cell_type": "code",
   "execution_count": null,
   "outputs": [],
   "source": [
    "gsc.best_params_\n",
    "reg = gsc.best_estimator_"
   ],
   "metadata": {
    "collapsed": false,
    "pycharm": {
     "name": "#%%\n"
    }
   }
  },
  {
   "cell_type": "markdown",
   "source": [
    "Similar with gridsearch for SVR, I ran the calculation offline. \n",
    "Here are the best parameters:\n",
    "\n",
    "{'C': 100, 'epsilon': 5, 'gamma': 'auto', 'kernel': 'rbf'}\n",
    "\n"
   ],
   "metadata": {
    "collapsed": false,
    "pycharm": {
     "name": "#%% md\n"
    }
   }
  },
  {
   "cell_type": "code",
   "execution_count": 64,
   "outputs": [
    {
     "data": {
      "text/plain": "SVR(C=100, epsilon=5, gamma='auto')"
     },
     "execution_count": 64,
     "metadata": {},
     "output_type": "execute_result"
    }
   ],
   "source": [
    "regsvc = SVR(C= 100, epsilon= 5, gamma= 'auto', kernel= 'rbf')\n",
    "\n",
    "regsvc.fit(X_train_scaled, y_train)"
   ],
   "metadata": {
    "collapsed": false,
    "pycharm": {
     "name": "#%%\n"
    }
   }
  },
  {
   "cell_type": "code",
   "execution_count": 65,
   "outputs": [
    {
     "name": "stdout",
     "output_type": "stream",
     "text": [
      "16.924570397711822\n",
      "23.19454432848136\n"
     ]
    }
   ],
   "source": [
    "ypred = regsvc.predict(X_test_scaled)\n",
    "\n",
    "print( mean_absolute_error(y_test, ypred) )\n",
    "print( mean_squared_error(y_test, ypred, squared=False) )\n",
    "\n",
    "# 16.924572894720576\n",
    "# 23.194546487539633"
   ],
   "metadata": {
    "collapsed": false,
    "pycharm": {
     "name": "#%%\n"
    }
   }
  },
  {
   "cell_type": "markdown",
   "source": [
    "SVR is now almost as good as RF. Let's check ElasticNetCV.\n",
    "ElasticNetCV loops over a range of l1 ratios to find the optimal value:"
   ],
   "metadata": {
    "collapsed": false,
    "pycharm": {
     "name": "#%% md\n"
    }
   }
  },
  {
   "cell_type": "code",
   "execution_count": null,
   "outputs": [],
   "source": [
    "from sklearn.linear_model import ElasticNetCV\n",
    "\n",
    "reg = ElasticNetCV(l1_ratio= [.1, .5, .7, .9, .95, .99, 1], random_state = semilla )\n",
    "\n",
    "reg.fit(X_train_scaled, y_train)\n",
    "ypred = reg.predict(X_test_scaled)\n",
    "\n",
    "print(reg.l1_ratio_)\n",
    "\n",
    "print( mean_absolute_error(y_test, ypred) )\n",
    "print( mean_squared_error(y_test, ypred, squared=False) )\n",
    "# 17.880412062299204\n",
    "# 24.09595343713386"
   ],
   "metadata": {
    "collapsed": false,
    "pycharm": {
     "name": "#%%\n"
    }
   }
  },
  {
   "cell_type": "markdown",
   "source": [
    "Now let's try with ligthgbm.\n",
    "Lightgbm handles categorial features, so let's avoid using one hot encoding"
   ],
   "metadata": {
    "collapsed": false
   }
  },
  {
   "cell_type": "code",
   "execution_count": 67,
   "outputs": [
    {
     "name": "stdout",
     "output_type": "stream",
     "text": [
      "3.3.1\n"
     ]
    }
   ],
   "source": [
    "import lightgbm as lgb\n",
    "# from lightgbm import LGBMRegressor\n",
    "print(lgb.__version__)\n",
    "\n",
    "\n",
    "dataOG.columns\n",
    "\n",
    "catvars = dataOG.dtypes.loc[dataOG.dtypes == object].index\n",
    "\n",
    "for var in catvars:\n",
    "\n",
    "    dataOG[var] = dataOG[var].astype('category')"
   ],
   "metadata": {
    "collapsed": false,
    "pycharm": {
     "name": "#%%\n"
    }
   }
  },
  {
   "cell_type": "code",
   "execution_count": 69,
   "outputs": [],
   "source": [
    "label = dataOG.pop(\"total_minutes\")\n",
    "Xlgb = dataOG.copy()\n",
    "\n",
    "\n",
    "Xlgb[\"on_demand\"] = Xlgb[\"on_demand\"].astype(int)\n",
    "\n",
    "X_train_lgb, X_test_lgb, y_train_lgb, y_test_lgb = train_test_split(Xlgb, label, test_size=0.2, random_state=semilla)"
   ],
   "metadata": {
    "collapsed": false,
    "pycharm": {
     "name": "#%%\n"
    }
   }
  },
  {
   "cell_type": "code",
   "execution_count": 70,
   "outputs": [
    {
     "data": {
      "text/plain": "lat                    float64\nlng                    float64\non_demand                int32\ncommon_store             int64\ntimeofday             category\nhourofday_x            float64\nhourofday_y            float64\nseniority             category\nfound_rate             float64\npicking_speed          float64\naccepted_rate          float64\nrating                 float64\npicking_speed_fast       int64\nlat_store              float64\nlng_store              float64\ndistance               float64\ncomuna                category\nKG                     float64\nUN                     float64\nFREQ_normal            float64\nFREQ_rare              float64\nQ_a_little             float64\nQ_some                 float64\nQ_tons                 float64\ndtype: object"
     },
     "execution_count": 70,
     "metadata": {},
     "output_type": "execute_result"
    }
   ],
   "source": [
    "train_data = lgb.Dataset(X_train_lgb, label = y_train_lgb)\n",
    "eval_data = lgb.Dataset(X_test_lgb, label = y_test_lgb, reference = train_data)\n",
    "\n",
    "X_test_lgb.columns.shape\n",
    "X_train_lgb.columns.shape\n",
    "X_test_lgb.dtypes"
   ],
   "metadata": {
    "collapsed": false,
    "pycharm": {
     "name": "#%%\n"
    }
   }
  },
  {
   "cell_type": "code",
   "execution_count": 71,
   "outputs": [
    {
     "name": "stderr",
     "output_type": "stream",
     "text": [
      "C:\\Users\\franc\\PycharmProjects\\letstf2gpu\\lib\\site-packages\\lightgbm\\engine.py:181: UserWarning: 'early_stopping_rounds' argument is deprecated and will be removed in a future release of LightGBM. Pass 'early_stopping()' callback via 'callbacks' argument instead.\n",
      "  _log_warning(\"'early_stopping_rounds' argument is deprecated and will be removed in a future release of LightGBM. \"\n",
      "C:\\Users\\franc\\PycharmProjects\\letstf2gpu\\lib\\site-packages\\lightgbm\\engine.py:239: UserWarning: 'verbose_eval' argument is deprecated and will be removed in a future release of LightGBM. Pass 'log_evaluation()' callback via 'callbacks' argument instead.\n",
      "  _log_warning(\"'verbose_eval' argument is deprecated and will be removed in a future release of LightGBM. \"\n",
      "C:\\Users\\franc\\PycharmProjects\\letstf2gpu\\lib\\site-packages\\lightgbm\\basic.py:1780: UserWarning: Overriding the parameters from Reference Dataset.\n",
      "  _log_warning('Overriding the parameters from Reference Dataset.')\n",
      "C:\\Users\\franc\\PycharmProjects\\letstf2gpu\\lib\\site-packages\\lightgbm\\basic.py:1513: UserWarning: categorical_column in param dict is overridden.\n",
      "  _log_warning(f'{cat_alias} in param dict is overridden.')\n"
     ]
    },
    {
     "name": "stdout",
     "output_type": "stream",
     "text": [
      "[LightGBM] [Warning] Auto-choosing col-wise multi-threading, the overhead of testing was 0.000763 seconds.\n",
      "You can set `force_col_wise=true` to remove the overhead.\n",
      "[LightGBM] [Info] Total Bins 2635\n",
      "[LightGBM] [Info] Number of data points in the train set: 6241, number of used features: 24\n",
      "[LightGBM] [Info] Start training from score 81.185779\n",
      "17.880412062299154\n",
      "24.095953437133872\n"
     ]
    }
   ],
   "source": [
    "\n",
    "parameters = {\n",
    "        'objective': 'regression',\n",
    "        'metric': 'mae',\n",
    "        'num_leaves': 31,\n",
    "        'learning_rate': 0.01,\n",
    "        'max_cat_to_onehot': 10,\n",
    "        'bagging_freq': 10,\n",
    "        'feature_fraction': 0.9,\n",
    "        'n_jobs':9,\n",
    "        'seed': semilla\n",
    "    }\n",
    "\n",
    "num_round = 1000\n",
    "reg = lgb.train(params=parameters, train_set=train_data,\n",
    "                num_boost_round=num_round,\n",
    "                valid_sets=eval_data,\n",
    "                early_stopping_rounds=5,\n",
    "                verbose_eval=0)\n",
    "\n",
    "\n",
    "y_pred = reg.predict(X_test_lgb, num_iteration=reg.best_iteration)\n",
    "\n",
    "print( mean_absolute_error(y_test, ypred) )\n",
    "print( mean_squared_error(y_test, ypred, squared=False) )\n",
    "\n",
    "# 17.880412062299204\n",
    "# 24.09595343713386"
   ],
   "metadata": {
    "collapsed": false,
    "pycharm": {
     "name": "#%% Train\n"
    }
   }
  },
  {
   "cell_type": "markdown",
   "source": [
    "Since lightgbm did fairly well, let's try to improve it with hyperparameter tuning\n"
   ],
   "metadata": {
    "collapsed": false,
    "pycharm": {
     "name": "#%% md\n"
    }
   }
  },
  {
   "cell_type": "code",
   "execution_count": null,
   "outputs": [],
   "source": [
    "model = lgb.LGBMRegressor(random_state=semilla)\n",
    "param_dists = {\n",
    "    \"n_estimators\": [400, 700, 1000],\n",
    "    \"colsample_bytree\": [0.7, 0.8, 1],\n",
    "    \"max_depth\": [-1, 15, 20, 25],\n",
    "    \"learning_rate\":[0.01, 0.001],\n",
    "    \"num_leaves\": [10, 100, 1000, 3000],\n",
    "    \"min_data_in_leaf\":[100, 1000],\n",
    "    \"reg_alpha\": [1.1, 1.2, 1.3],\n",
    "    \"reg_lambda\": [1.1, 1.2, 1.3],\n",
    "    \"min_split_gain\": [0., 1., 15.],\n",
    "    \"subsample\": [0.7, 0.8, 0.9],\n",
    "    \"subsample_freq\": [20],\n",
    "    \"random_state\":[semilla]\n",
    "}\n",
    "\n",
    "gs = RandomizedSearchCV(estimator = model, param_distributions=param_dists,\n",
    "                  n_iter=100,\n",
    "                  scoring=\"neg_mean_absolute_error\",\n",
    "                  n_jobs=10,\n",
    "                  cv=3,\n",
    "                  random_state=semilla,\n",
    "                  verbose=2\n",
    "                  )\n",
    "gs.fit(X_train_lgb, y_train_lgb)\n",
    "\n",
    "\n",
    "ypred = gs.predict(X_test_lgb)\n",
    "\n",
    "print( mean_absolute_error(y_test, ypred) )\n",
    "print( mean_squared_error(y_test, ypred, squared=False) )\n",
    "\n",
    "# 15.896987017506243\n",
    "# 21.591355890477775"
   ],
   "metadata": {
    "collapsed": false,
    "pycharm": {
     "name": "#%%\n"
    }
   }
  },
  {
   "cell_type": "markdown",
   "source": [
    "Here below are the best parameters I found with Gridsearch. \n",
    "This is the best model obtained thus far."
   ],
   "metadata": {
    "collapsed": false,
    "pycharm": {
     "name": "#%% md\n"
    }
   }
  },
  {
   "cell_type": "code",
   "execution_count": null,
   "outputs": [],
   "source": [
    "gs.best_params_\n",
    "\n",
    "\"\"\"\n",
    "{'subsample_freq': 20,\n",
    " 'subsample': 0.9,\n",
    " 'reg_lambda': 1.1,\n",
    " 'reg_alpha': 1.3,\n",
    " 'random_state': 2077,\n",
    " 'num_leaves': 1000,\n",
    " 'n_estimators': 1000,\n",
    " 'min_split_gain': 1.0,\n",
    " 'min_data_in_leaf': 100,\n",
    " 'max_depth': 15,\n",
    " 'learning_rate': 0.01,\n",
    " 'colsample_bytree': 0.7}\n",
    "\"\"\""
   ],
   "metadata": {
    "collapsed": false,
    "pycharm": {
     "name": "#%%\n"
    }
   }
  },
  {
   "cell_type": "code",
   "execution_count": 72,
   "outputs": [
    {
     "name": "stdout",
     "output_type": "stream",
     "text": [
      "[LightGBM] [Warning] min_data_in_leaf is set=100, min_child_samples=20 will be ignored. Current value: min_data_in_leaf=100\n",
      "15.896987017506243\n",
      "21.591355890477775\n"
     ]
    }
   ],
   "source": [
    "reglgb =  lgb.LGBMRegressor(random_state=semilla,\n",
    "                            subsample_freq= 20,\n",
    "                             subsample= 0.9,\n",
    "                             reg_lambda= 1.1,\n",
    "                             reg_alpha= 1.3,\n",
    "                             num_leaves= 1000,\n",
    "                             n_estimators= 1000,\n",
    "                             min_split_gain= 1.0,\n",
    "                             min_data_in_leaf= 100,\n",
    "                             max_depth= 15,\n",
    "                             learning_rate= 0.01,\n",
    "                             colsample_bytree= 0.7\n",
    "                            )\n",
    "\n",
    "reglgb.fit(X_train_lgb, y_train_lgb)\n",
    "\n",
    "ypred = reglgb.predict(X_test_lgb)\n",
    "\n",
    "print( mean_absolute_error(y_test, ypred) )\n",
    "print( mean_squared_error(y_test, ypred, squared=False) )"
   ],
   "metadata": {
    "collapsed": false,
    "pycharm": {
     "name": "#%%\n"
    }
   }
  },
  {
   "cell_type": "markdown",
   "source": [
    "## Model Explanation\n",
    "Now that we have a great model, let's explain it! Let's find the most important features\n",
    "and how they're used to make predictions.\n",
    "\n",
    "First the random forest model with shap"
   ],
   "metadata": {
    "collapsed": false,
    "pycharm": {
     "name": "#%% md\n"
    }
   }
  },
  {
   "cell_type": "code",
   "execution_count": 74,
   "outputs": [],
   "source": [
    "import shap\n",
    "\n",
    "explainer = shap.Explainer(regrf)\n",
    "shap_values = explainer(X_test_scaled)"
   ],
   "metadata": {
    "collapsed": false,
    "pycharm": {
     "name": "#%%\n"
    }
   }
  },
  {
   "cell_type": "code",
   "execution_count": 75,
   "outputs": [
    {
     "data": {
      "text/plain": "<Figure size 576x684 with 2 Axes>",
      "image/png": "[encoded data removed]"
     },
     "metadata": {
      "needs_background": "light"
     },
     "output_type": "display_data"
    }
   ],
   "source": [
    "shap.summary_plot(shap_values, X_test_scaled, feature_names=X_test.columns, )"
   ],
   "metadata": {
    "collapsed": false,
    "pycharm": {
     "name": "#%%\n"
    }
   }
  },
  {
   "cell_type": "markdown",
   "source": [
    "Shap is very useful for the interpretation of the model. A high number of units bought (UN),\n",
    "a slow shopper (picking speed), the hour of the day, a large distance to travel, buying rarely bought items (FREQ)\n",
    "or a store not commonly used (common_store), buying a large weight (KG, Q_little and Q_some),\n",
    "the location (coordinates, comuna), a low rating of the shopper,\n",
    "all contribute to an increase in the time predicted.\n",
    "\n",
    "Let's look at the feature importance according to Lightgbm:\n"
   ],
   "metadata": {
    "collapsed": false,
    "pycharm": {
     "name": "#%% md\n"
    }
   }
  },
  {
   "cell_type": "code",
   "execution_count": 76,
   "outputs": [
    {
     "data": {
      "text/plain": "<Figure size 432x288 with 1 Axes>",
      "image/png": "[encoded data removed]"
     },
     "metadata": {
      "needs_background": "light"
     },
     "output_type": "display_data"
    }
   ],
   "source": [
    "ax = lgb.plot_importance(reg, max_num_features=15)"
   ],
   "metadata": {
    "collapsed": false,
    "pycharm": {
     "name": "#%%\n"
    }
   }
  },
  {
   "cell_type": "markdown",
   "source": [
    "It's interesting to notice that both models share similar features among the most important ones.\n",
    "\n",
    "It's also good to notice that the features created were useful to the model, such as cyclical time,\n",
    "distance, comuna, frequency of stores, quantity/amount of items bought, among some.\n",
    "\n",
    "\n",
    "Now that I have the best model: lightgbm, let's use it to predict on the set I need to submit\n",
    "\n"
   ],
   "metadata": {
    "collapsed": false,
    "pycharm": {
     "name": "#%% md\n"
    }
   }
  },
  {
   "cell_type": "code",
   "execution_count": 77,
   "outputs": [
    {
     "name": "stderr",
     "output_type": "stream",
     "text": [
      "\n",
      "A value is trying to be set on a copy of a slice from a DataFrame.\n",
      "Try using .loc[row_indexer,col_indexer] = value instead\n",
      "\n",
      "See the caveats in the documentation: https://pandas.pydata.org/pandas-docs/stable/user_guide/indexing.html#returning-a-view-versus-a-copy\n"
     ]
    }
   ],
   "source": [
    "\n",
    "catvars = finaltest.dtypes.loc[finaltest.dtypes == object].index\n",
    "\n",
    "for var in catvars:\n",
    "\n",
    "    finaltest[var] = finaltest[var].astype('category')"
   ],
   "metadata": {
    "collapsed": false,
    "pycharm": {
     "name": "#%%\n"
    }
   }
  },
  {
   "cell_type": "code",
   "execution_count": null,
   "outputs": [],
   "source": [
    "finaltest.dtypes\n",
    "\n",
    "total_minutes = finaltest.pop(\"total_minutes\")"
   ],
   "metadata": {
    "collapsed": false,
    "pycharm": {
     "name": "#%%\n"
    }
   }
  },
  {
   "cell_type": "code",
   "execution_count": 81,
   "outputs": [
    {
     "data": {
      "text/plain": "array([ 59.28570049,  68.30594305, 100.86793831, ...,  66.65374527,\n        94.45950331,  82.82587466])"
     },
     "execution_count": 81,
     "metadata": {},
     "output_type": "execute_result"
    }
   ],
   "source": [
    "total_minutes_pred = reglgb.predict(finaltest)\n",
    "total_minutes_pred"
   ],
   "metadata": {
    "collapsed": false,
    "pycharm": {
     "name": "#%%\n"
    }
   }
  },
  {
   "cell_type": "code",
   "execution_count": null,
   "outputs": [],
   "source": [
    "total_minutes = total_minutes.to_frame(\"total_minutes_predicted\")\n",
    "total_minutes[\"total_minutes_predicted\"] = total_minutes_pred\n",
    "total_minutes.to_csv(\"total_minutes_predicted.csv\")\n",
    "total_minutes.to_excel(\"total_minutes_predicted.xlsx\")"
   ],
   "metadata": {
    "collapsed": false,
    "pycharm": {
     "name": "#%%\n"
    }
   }
  },
  {
   "cell_type": "markdown",
   "source": [
    "Thank you very much for this very interesting test,\n",
    "I enjoyed being creative when designing new features and finding the best model.\n",
    "I look forward to talking with you regarding\n",
    "this position and answer any questions you might have.\n",
    "Thank you very kindly for your consideration.\n",
    "\n",
    "Sincerely,\n",
    "Francisco Mena"
   ],
   "metadata": {
    "collapsed": false,
    "pycharm": {
     "name": "#%% md\n"
    }
   }
  }
 ],
 "metadata": {
  "kernelspec": {
   "display_name": "Python 3",
   "language": "python",
   "name": "python3"
  },
  "language_info": {
   "codemirror_mode": {
    "name": "ipython",
    "version": 2
   },
   "file_extension": ".py",
   "mimetype": "text/x-python",
   "name": "python",
   "nbconvert_exporter": "python",
   "pygments_lexer": "ipython2",
   "version": "2.7.6"
  }
 },
 "nbformat": 4,
 "nbformat_minor": 0
}